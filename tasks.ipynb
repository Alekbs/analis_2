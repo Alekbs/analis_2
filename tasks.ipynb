{
 "cells": [
  {
   "cell_type": "code",
   "execution_count": 3,
   "id": "a2c8c214",
   "metadata": {},
   "outputs": [],
   "source": [
    "import pandas as pd\n",
    "import numpy as np\n",
    "from datetime import *"
   ]
  },
  {
   "cell_type": "markdown",
   "id": "a10f65f3",
   "metadata": {},
   "source": [
    "Задание 1. Создать объект Series из списка чисел [1, 2, 3] с метками [a, b, c] и вывести его на печать."
   ]
  },
  {
   "cell_type": "code",
   "execution_count": 7,
   "id": "9d4490d5",
   "metadata": {},
   "outputs": [],
   "source": [
    "numbers = pd.Series([1, 2, 3], index=[\"a\", \"b\", \"c\"])"
   ]
  },
  {
   "cell_type": "code",
   "execution_count": 8,
   "id": "3b866f43",
   "metadata": {},
   "outputs": [
    {
     "name": "stdout",
     "output_type": "stream",
     "text": [
      "a    1\n",
      "b    2\n",
      "c    3\n",
      "dtype: int64\n"
     ]
    }
   ],
   "source": [
    "print(numbers)"
   ]
  },
  {
   "cell_type": "markdown",
   "id": "23e91140",
   "metadata": {},
   "source": [
    "Задание 2. Создать объект Series из словаря {'a': 1, 'b': 2, 'c': 3} и вывести его на печать."
   ]
  },
  {
   "cell_type": "code",
   "execution_count": 9,
   "id": "5701815e",
   "metadata": {},
   "outputs": [],
   "source": [
    "dict = {\"a\": 1, \"b\": 2, \"c\": 3}\n",
    "s = pd.Series(dict)"
   ]
  },
  {
   "cell_type": "code",
   "execution_count": 10,
   "id": "3cbd8d29",
   "metadata": {},
   "outputs": [
    {
     "name": "stdout",
     "output_type": "stream",
     "text": [
      "a    1\n",
      "b    2\n",
      "c    3\n",
      "dtype: int64\n"
     ]
    }
   ],
   "source": [
    "print(s)"
   ]
  },
  {
   "cell_type": "markdown",
   "id": "46eaafc1",
   "metadata": {},
   "source": [
    "Задание 3. Создать объект массива NumPy arr = [1, 2, 3, 4, 5] , затем из него создать объект Series и вывести его на печать."
   ]
  },
  {
   "cell_type": "code",
   "execution_count": 6,
   "id": "d6cb7e08",
   "metadata": {},
   "outputs": [],
   "source": [
    "arr = np.array([1, 2, 3, 4, 5])\n",
    "s = pd.Series(arr)"
   ]
  },
  {
   "cell_type": "code",
   "execution_count": 7,
   "id": "307ca927",
   "metadata": {},
   "outputs": [
    {
     "name": "stdout",
     "output_type": "stream",
     "text": [
      "0    1\n",
      "1    2\n",
      "2    3\n",
      "3    4\n",
      "4    5\n",
      "dtype: int32\n"
     ]
    }
   ],
   "source": [
    "print(s)"
   ]
  },
  {
   "cell_type": "markdown",
   "id": "bb69321f",
   "metadata": {},
   "source": [
    "Задание 4. Создать объект Series с заполнением по умолчанию значением 0 и метками [a, b, c] и вывести его на печать."
   ]
  },
  {
   "cell_type": "code",
   "execution_count": 8,
   "id": "dbfbc3cc",
   "metadata": {},
   "outputs": [],
   "source": [
    "s = pd.Series(0, index=[\"a\", \"b\", \"c\"])"
   ]
  },
  {
   "cell_type": "code",
   "execution_count": 9,
   "id": "f7290a1f",
   "metadata": {},
   "outputs": [
    {
     "name": "stdout",
     "output_type": "stream",
     "text": [
      "a    0\n",
      "b    0\n",
      "c    0\n",
      "dtype: int64\n"
     ]
    }
   ],
   "source": [
    "print(s)"
   ]
  },
  {
   "cell_type": "markdown",
   "id": "0c74f6e7",
   "metadata": {},
   "source": [
    "Задание 5. В первой строке ввода с клавиатуры поступает строка с символами разлепленными пробелом, во второй строка с целыми числами. На их основе создать список кортежей и из него объект Series, вывести его на печать."
   ]
  },
  {
   "cell_type": "code",
   "execution_count": 22,
   "id": "4d41e5f2",
   "metadata": {},
   "outputs": [],
   "source": [
    "str1 = input(\"Введите символы через пробел\")\n",
    "str2 = input(\"Введите целые числа \")\n",
    "s1 = tuple(str(item) for item in str1.split(\" \"))\n",
    "s2 = tuple(int(item) for item in str2.split(\" \"))\n",
    "my_list = [s1, s2]\n",
    "s = pd.Series(my_list)"
   ]
  },
  {
   "cell_type": "code",
   "execution_count": 23,
   "id": "50d54095",
   "metadata": {},
   "outputs": [
    {
     "name": "stdout",
     "output_type": "stream",
     "text": [
      "0    (a, s, d, f)\n",
      "1       (3, 4, 5)\n",
      "dtype: object\n"
     ]
    }
   ],
   "source": [
    "print(s)"
   ]
  },
  {
   "cell_type": "markdown",
   "id": "6564524a",
   "metadata": {},
   "source": [
    "Задание 6. На вход поступает строка слов, разделенных пробелом. Создать на ее основе объект Series с метками 0, 1, 2,... Вывести его на печать."
   ]
  },
  {
   "cell_type": "code",
   "execution_count": 6,
   "id": "4b02b196",
   "metadata": {},
   "outputs": [],
   "source": [
    "str1 = input(\"Введите слова, разделенные пробелом \")\n",
    "s1 = tuple(str(item) for item in str1.split(\" \"))\n",
    "s = pd.Series(s1)"
   ]
  },
  {
   "cell_type": "code",
   "execution_count": 25,
   "id": "175fa745",
   "metadata": {},
   "outputs": [
    {
     "name": "stdout",
     "output_type": "stream",
     "text": [
      "0          Слова\n",
      "1    разделенные\n",
      "2       пробелом\n",
      "dtype: object\n"
     ]
    }
   ],
   "source": [
    "print(s)"
   ]
  },
  {
   "cell_type": "markdown",
   "id": "74aaf047",
   "metadata": {},
   "source": [
    "Задание 7. На вход поступает последовательность из чисел 0 и 1, разделенных пробелом. Создать на ее основе объект Series, содержащий булевы значения True (1) , False (0) c метками [a, b, c, d,...]"
   ]
  },
  {
   "cell_type": "code",
   "execution_count": 1,
   "id": "d651ca82",
   "metadata": {},
   "outputs": [],
   "source": [
    "s = input().split()\n",
    "s = [bool(int(x)) for x in s]"
   ]
  },
  {
   "cell_type": "code",
   "execution_count": 16,
   "id": "110fd6e9",
   "metadata": {},
   "outputs": [
    {
     "name": "stdout",
     "output_type": "stream",
     "text": [
      "a     True\n",
      "b    False\n",
      "c     True\n",
      "d    False\n",
      "e     True\n",
      "dtype: bool\n"
     ]
    }
   ],
   "source": [
    "s1 = pd.Series(s)\n",
    "s1 = s1.rename(lambda x: chr(97 + x))\n",
    "print(s1)"
   ]
  },
  {
   "cell_type": "markdown",
   "id": "c6763f80",
   "metadata": {},
   "source": [
    "Задание 8. Создать объект Series из списка дат ['2022-01-01', '2022-01-02', '2022 01-03'] , вывести его на печать. Даты в объекте Series должны быть представлены объектами datetime стандартной библиотеки языка программирования Python."
   ]
  },
  {
   "cell_type": "code",
   "execution_count": 28,
   "id": "888ffe95",
   "metadata": {},
   "outputs": [
    {
     "name": "stdout",
     "output_type": "stream",
     "text": [
      "0   2022-01-01\n",
      "1   2022-01-02\n",
      "2   2022-01-03\n",
      "dtype: datetime64[ns]\n"
     ]
    }
   ],
   "source": [
    "dates = pd.Series(data=pd.date_range(\"2022-01-01\", periods=3))\n",
    "print(dates)"
   ]
  },
  {
   "cell_type": "markdown",
   "id": "b3b50d40",
   "metadata": {},
   "source": [
    "Задание 9. На вход подаются два целых числа n и m через пробел. На их основе создать объект Series с числами от n до m (включительно) с шагом 10 и метками [1, 3, 5, 7,...] . Вывести его на печать."
   ]
  },
  {
   "cell_type": "code",
   "execution_count": 41,
   "id": "6be9d476",
   "metadata": {},
   "outputs": [
    {
     "name": "stdout",
     "output_type": "stream",
     "text": [
      "1       2\n",
      "3      12\n",
      "5      22\n",
      "7      32\n",
      "9      42\n",
      "11     52\n",
      "13     62\n",
      "15     72\n",
      "17     82\n",
      "19     92\n",
      "21    102\n",
      "23    112\n",
      "25    122\n",
      "dtype: int32\n"
     ]
    }
   ],
   "source": [
    "n, m = (input(\"Введите целые числа m и n через пробел\")).split()\n",
    "s = pd.Series(np.arange(int(n), int(m), 10))\n",
    "s = s.rename(lambda x: 2 * x + 1)\n",
    "print(s)"
   ]
  },
  {
   "cell_type": "markdown",
   "id": "4ca6d72c",
   "metadata": {},
   "source": [
    "Индивидуальное задание. Создать объект Series из словаря, содержащего ФИО ученика и его ID, отсортировать словарь по ID и вывести его на печать."
   ]
  },
  {
   "cell_type": "code",
   "execution_count": 10,
   "id": "6a242a9a",
   "metadata": {},
   "outputs": [],
   "source": [
    "student_dict = {\n",
    "    101: \"Иванов Иван Иванович\",\n",
    "    103: \"Сидоров Алексей Сергеевич\",\n",
    "    102: \"Петров Петр Петрович\",\n",
    "    105: \"Соколов Сергей Сергеевич\",\n",
    "    227: \"Тимофеев Тимофей Тимофеевич\",\n",
    "    106: \"Павлов Павел Павлович\",\n",
    "    104: \"Смирнова Екатерина Андреевна\",\n",
    "}"
   ]
  },
  {
   "cell_type": "code",
   "execution_count": 16,
   "id": "f4b23092",
   "metadata": {},
   "outputs": [
    {
     "name": "stdout",
     "output_type": "stream",
     "text": [
      "101            Иванов Иван Иванович\n",
      "103       Сидоров Алексей Сергеевич\n",
      "102            Петров Петр Петрович\n",
      "105        Соколов Сергей Сергеевич\n",
      "227     Тимофеев Тимофей Тимофеевич\n",
      "106           Павлов Павел Павлович\n",
      "104    Смирнова Екатерина Андреевна\n",
      "Name: ФИО ученика, dtype: object\n"
     ]
    }
   ],
   "source": [
    "sorted_dict = sorted(student_dict.items())\n",
    "student_series = pd.Series(student_dict, name=\"ФИО ученика\")\n",
    "\n",
    "print(student_series)"
   ]
  }
 ],
 "metadata": {
  "kernelspec": {
   "display_name": "Python 3 (ipykernel)",
   "language": "python",
   "name": "python3"
  },
  "language_info": {
   "codemirror_mode": {
    "name": "ipython",
    "version": 3
   },
   "file_extension": ".py",
   "mimetype": "text/x-python",
   "name": "python",
   "nbconvert_exporter": "python",
   "pygments_lexer": "ipython3",
   "version": "3.11.5"
  }
 },
 "nbformat": 4,
 "nbformat_minor": 5
}
